{
 "metadata": {
  "name": "",
  "signature": "sha256:df54ea909d9fef80d86dd5f200f7f8d7e63633bc9e4a0ae9736e48f9f3770683"
 },
 "nbformat": 3,
 "nbformat_minor": 0,
 "worksheets": [
  {
   "cells": [
    {
     "cell_type": "markdown",
     "metadata": {},
     "source": [
      "#Esercizio 1\n",
      "#Dato un array di interi, restituire la loro somma fino a che non viene ritrovato un valore negativo.\n"
     ]
    },
    {
     "cell_type": "code",
     "collapsed": false,
     "input": [
      "\n",
      "\n",
      "function SumIter(vett){\n",
      "    sum = 0;\n",
      "    i = 0;\n",
      "    while(vett[i] > 0){\n",
      "        sum = sum + vett[i];\n",
      "        i++;\n",
      "    }\n",
      "    return sum;\n",
      "}\n",
      "a = [ 2, 5, -2, 8];\n",
      "\n",
      "SumIter(a);\n"
     ],
     "language": "python",
     "metadata": {},
     "outputs": [
      {
       "metadata": {},
       "output_type": "pyout",
       "prompt_number": 6,
       "text": [
        "7"
       ]
      }
     ],
     "prompt_number": 6
    },
    {
     "cell_type": "code",
     "collapsed": false,
     "input": [
      "function sumRic(vett, i){\n",
      "    tot = 0;\n",
      "    \n",
      "    if(vett[i] < 0){\n",
      "        return tot;\n",
      "    } else {\n",
      "       tot = tot + vett[i];\n",
      "        return (tot + sumRic(vett, i + 1));\n",
      "    }\n",
      "    \n",
      "}\n",
      "\n",
      "a = [2, 5, -2, 8];\n",
      "sumRic(a, 0);"
     ],
     "language": "python",
     "metadata": {},
     "outputs": [
      {
       "metadata": {},
       "output_type": "pyout",
       "prompt_number": 3,
       "text": [
        "7"
       ]
      }
     ],
     "prompt_number": 3
    },
    {
     "cell_type": "markdown",
     "metadata": {},
     "source": [
      "#Esercizio 2\n",
      "\n",
      "#Dato un numero n, restituire la somma dei primi n numeri interi positivi dispari"
     ]
    },
    {
     "cell_type": "code",
     "collapsed": false,
     "input": [
      "function Es2Iterativo(n){\n",
      "    totale = 0;\n",
      "    cont = 0;\n",
      "    for(i = 1; cont < n; i++){\n",
      "        if(i%2 != 0){\n",
      "            totale = totale + i;\n",
      "            cont++;\n",
      "        }\n",
      "    }\n",
      "    return totale;\n",
      "}\n",
      "\n",
      "\n",
      "Es2Iterativo(10);"
     ],
     "language": "python",
     "metadata": {},
     "outputs": [
      {
       "metadata": {},
       "output_type": "pyout",
       "prompt_number": 36,
       "text": [
        "100"
       ]
      }
     ],
     "prompt_number": 36
    },
    {
     "cell_type": "code",
     "collapsed": false,
     "input": [
      "/* logica errata, logica da orrori */\n",
      "\n",
      "function ricorsivo(n){\n",
      "    tot = 1;\n",
      "    cont = 0;\n",
      "    if(cont > n){\n",
      "        return tot;\n",
      "    } else {\n",
      "        cont++;\n",
      "        tot = tot + (tot + 2);\n",
      "        return ricorsivo(n);\n",
      "    }\n",
      "}\n",
      "ricorsivo(3);"
     ],
     "language": "python",
     "metadata": {},
     "outputs": [
      {
       "ename": "RangeError",
       "evalue": "Maximum call stack size exceeded",
       "output_type": "pyerr",
       "traceback": ""
      }
     ],
     "prompt_number": 41
    },
    {
     "cell_type": "markdown",
     "metadata": {},
     "source": [
      "#Esercizio 3\n",
      "#Dato un array di 10 elementi, calcolarne la media"
     ]
    },
    {
     "cell_type": "code",
     "collapsed": false,
     "input": [
      "function averageIterativa(vett){\n",
      "    media = 0;\n",
      "    for(i = 0; i < 10; i++){\n",
      "        media = media + vett[i];\n",
      "    }\n",
      "    return media / 10;\n",
      "}\n",
      "b = [2, 4, 4, 82, 28, 10, -7, 7, 8, 9];\n",
      "averageIterativa(b);\n"
     ],
     "language": "python",
     "metadata": {},
     "outputs": [
      {
       "metadata": {},
       "output_type": "pyout",
       "prompt_number": 1,
       "text": [
        "14.7"
       ]
      }
     ],
     "prompt_number": 1
    },
    {
     "cell_type": "code",
     "collapsed": false,
     "input": [
      "function averageRicorsiva(vettore, totale, i){\n",
      "\tif(i < 10){\n",
      "        totale = totale + vettore[i];\n",
      "\t\treturn averageRicorsiva(vettore, totale, i + 1);\n",
      "\t} else {\n",
      "\t\treturn totale / 10;\n",
      "\t}\n",
      "}\n",
      "tot = 0;\n",
      "averageRicorsiva(b, tot, 0);"
     ],
     "language": "python",
     "metadata": {},
     "outputs": [
      {
       "metadata": {},
       "output_type": "pyout",
       "prompt_number": 2,
       "text": [
        "14.7"
       ]
      }
     ],
     "prompt_number": 2
    },
    {
     "cell_type": "markdown",
     "metadata": {},
     "source": [
      "#Esercizio 4\n",
      "#Dato un intervallo [a, b] con a e b due interi positivi, restituire la somma di tutti i numeri compresi all\u2019interno dell\u2019intervallo, estremi inclusi. Nel caso che b fosse minore di a, calcolare la somma nell\u2019intervallo [b,a]"
     ]
    },
    {
     "cell_type": "code",
     "collapsed": false,
     "input": [
      "function sumIntervIterativo(vett, a, b){\n",
      "    if(a < b){\n",
      "        for(i = a; a <= b; a++){\n",
      "            tot = tot + vett[a];\n",
      "        }\n",
      "    } else {\n",
      "        for(i = b; a >= b ; b++){\n",
      "            tot = tot + vett[b];\n",
      "        }\n",
      "    }\n",
      "    return tot;\n",
      "}\n",
      "d = [1, 2, 3, 4, 5, 5];\n",
      "a = 0;\n",
      "b = 3;\n",
      "sumIntervIterativo(d, a, b);"
     ],
     "language": "python",
     "metadata": {},
     "outputs": [
      {
       "metadata": {},
       "output_type": "pyout",
       "prompt_number": 64,
       "text": [
        "10"
       ]
      }
     ],
     "prompt_number": 64
    },
    {
     "cell_type": "code",
     "collapsed": false,
     "input": [
      "tot = 0;\n",
      "function sumIntervRicorsiva(vett, a, b){\n",
      "    \n",
      "    if(a != b){\n",
      "        if(a < b){\n",
      "            tot = tot + vett[a];\n",
      "            return sumIntervRicorsiva(vett, a + 1, b);\n",
      "        } else {\n",
      "            tot = tot + vett[b];\n",
      "            return sumIntervRicorsiva(vett, a, b + 1);\n",
      "        }\n",
      "    } else {\n",
      "        return tot + vett[a];\n",
      "    }\n",
      "    \n",
      "}\n",
      "a = 4;\n",
      "b = 2;\n",
      "sumIntervRicorsiva(d, a, b);"
     ],
     "language": "python",
     "metadata": {},
     "outputs": [
      {
       "metadata": {},
       "output_type": "pyout",
       "prompt_number": 114,
       "text": [
        "12"
       ]
      }
     ],
     "prompt_number": 114
    },
    {
     "cell_type": "markdown",
     "metadata": {},
     "source": [
      "#Esercizio 5\n",
      "#Si calcoli il prodotto di due numeri a, b maggiori o uguali a zero, tramite l\u2019utilizzo del solo operatore somma."
     ]
    },
    {
     "cell_type": "code",
     "collapsed": false,
     "input": [
      "\n",
      "function multIterativo(a, b){\n",
      "    s = 0;\n",
      "     if(a >= 0 && b >=0){\n",
      "    for(i = 0; i < b; i++){\n",
      "        s = s + a;\n",
      "        }\n",
      "}\n",
      "    \n",
      "    return s;\n",
      "    \n",
      "}\n",
      "multIterativo(5, 5);"
     ],
     "language": "python",
     "metadata": {},
     "outputs": [
      {
       "metadata": {},
       "output_type": "pyout",
       "prompt_number": 24,
       "text": [
        "25"
       ]
      }
     ],
     "prompt_number": 24
    },
    {
     "cell_type": "code",
     "collapsed": false,
     "input": [
      "s=0;\n",
      "function multRicorsivo(a, b){\n",
      "    if( a == 0 || b == 0){\n",
      "    return s;\n",
      "} else{\n",
      "    s = s + b;\n",
      "return      multRicorsivo(a - 1, b);\n",
      "}\n",
      "}\n",
      "\n",
      "multRicorsivo(3, 4);"
     ],
     "language": "python",
     "metadata": {},
     "outputs": [
      {
       "metadata": {},
       "output_type": "pyout",
       "prompt_number": 34,
       "text": [
        "12"
       ]
      }
     ],
     "prompt_number": 34
    },
    {
     "cell_type": "markdown",
     "metadata": {},
     "source": [
      "#Esercizio 6\n",
      "#Si calcoli la divisione e il resto della divisione tra due numeri a, b maggiori a zero, tramite l\u2019utilizzo dei soli operatori somma e sottrazione."
     ]
    },
    {
     "cell_type": "code",
     "collapsed": false,
     "input": [
      "function divIter(divid, divis){\n",
      "    q = 0;\n",
      "    r = 0;\n",
      "    if(divid === 0 || divis === 0){\n",
      "        console.log('divisione impossibile');\n",
      "    } else{\n",
      "   for(i = divid; i >= divis; i -= divis){\n",
      "            q++;\n",
      "            r = i - divis;\n",
      "            \n",
      "    }\n",
      "    console.log('quoziente ' + q + ', resto ' +  r);\n",
      "    }\n",
      "}\n",
      "dividendo = 10;\n",
      "divisore = 5;\n",
      "divIter(dividendo, divisore);"
     ],
     "language": "python",
     "metadata": {},
     "outputs": [
      {
       "output_type": "stream",
       "stream": "stdout",
       "text": [
        "quoziente 2, resto 0\n"
       ]
      },
      {
       "metadata": {},
       "output_type": "pyout",
       "prompt_number": 35,
       "text": [
        "undefined"
       ]
      }
     ],
     "prompt_number": 35
    },
    {
     "cell_type": "code",
     "collapsed": false,
     "input": [
      "q = 0;\n",
      "function divRic(divid, divis, q){\n",
      "    \n",
      "    if(divid === 0 || divis === 0){\n",
      "        r = divid;\n",
      "        console.log(q , r);\n",
      "    }else{\n",
      "        if(divid >= divis){\n",
      "            r = divid - divis;\n",
      "            q++;\n",
      "            return divRic(divid - divis, divis, q);\n",
      "        } else {\n",
      "            console.log(q , r);\n",
      "        }\n",
      "    }\n",
      "\n",
      "}\n",
      "divRic(17, 5, 0);"
     ],
     "language": "python",
     "metadata": {},
     "outputs": [
      {
       "output_type": "stream",
       "stream": "stdout",
       "text": [
        "3 2\n"
       ]
      },
      {
       "metadata": {},
       "output_type": "pyout",
       "prompt_number": 59,
       "text": [
        "undefined"
       ]
      }
     ],
     "prompt_number": 59
    },
    {
     "cell_type": "markdown",
     "metadata": {},
     "source": [
      "#Esercizio 10\n",
      "#Dati due interi a, n maggiori di 0, scrivere un algoritmo che crea un lista di n elementi contenenti a."
     ]
    },
    {
     "cell_type": "code",
     "collapsed": false,
     "input": [
      "function replicateIterativa(num1, num2){\n",
      "    vett = [];\n",
      "    for(i = 0; i < num2; i++){\n",
      "        vett.push(num1);\n",
      "    }\n",
      "    return vett;\n",
      "}\n",
      "\n",
      "replicateIterativa(3, 4);"
     ],
     "language": "python",
     "metadata": {},
     "outputs": [
      {
       "metadata": {},
       "output_type": "pyout",
       "prompt_number": 77,
       "text": [
        "[ 3, 3, 3, 3 ]"
       ]
      }
     ],
     "prompt_number": 77
    },
    {
     "cell_type": "code",
     "collapsed": false,
     "input": [
      "function replicateRicorsiva(vett, num1, num2){\n",
      "    if(num2 != 0){\n",
      "        vett.push(num1);\n",
      "        return replicateRicorsiva(vett, num1, num2 - 1);\n",
      "    } else {\n",
      "        \n",
      "        return vett;\n",
      "    }\n",
      "}\n",
      "ve = [];\n",
      "replicateRicorsiva(ve, 3, 4);"
     ],
     "language": "python",
     "metadata": {},
     "outputs": [
      {
       "metadata": {},
       "output_type": "pyout",
       "prompt_number": 93,
       "text": [
        "[ 3, 3, 3, 3 ]"
       ]
      }
     ],
     "prompt_number": 93
    },
    {
     "cell_type": "markdown",
     "metadata": {},
     "source": [
      "#Esercizio 11\n",
      "#Data una lista di interi A, si riordini gli elementi della lista in modo tale che tutti gli elementi dispari precedano nello stesso ordine tutti gli elementi pari."
     ]
    },
    {
     "cell_type": "code",
     "collapsed": false,
     "input": [
      "function disParIterativ(vett){\n",
      "    vettore = [];\n",
      "    vettPari = [];\n",
      "    for(i = 0; i < vett.length; i++){\n",
      "        if(vett[i]%2 != 0){\n",
      "            vettore.push(vett[i]);\n",
      "        } else {\n",
      "            vettPari.push(vett[i]);\n",
      "        }\n",
      "    }\n",
      "    vector = vettore.concat(vettPari);\n",
      "    return vector;\n",
      "}\n",
      "vec = [8, 85, 810, 9];\n",
      "disParIterativ(vec);"
     ],
     "language": "python",
     "metadata": {},
     "outputs": [
      {
       "metadata": {},
       "output_type": "pyout",
       "prompt_number": 17,
       "text": [
        "[ 85, 9, 8, 810 ]"
       ]
      }
     ],
     "prompt_number": 17
    },
    {
     "cell_type": "code",
     "collapsed": false,
     "input": [
      "i = 0;\n",
      "function disParRicorsiva(vett, i){\n",
      "    \n",
      "    if(i < vett.length){\n",
      "       if(vett[i]%2 != 0){\n",
      "            vector.push(vett[i]);\n",
      "            return disParRicorsiva(vett, i + 1);\n",
      "        } else {\n",
      "            vector2.push(vett[i]);\n",
      "            return disParRicorsiva(vett, i + 1);\n",
      "        }\n",
      "    } else {\n",
      "        nvector = vector.concat(vector2);\n",
      "        return nvector;\n",
      "    }\n",
      "}\n",
      "\n",
      "disParRicorsiva(vec, 0);"
     ],
     "language": "python",
     "metadata": {},
     "outputs": [
      {
       "metadata": {},
       "output_type": "pyout",
       "prompt_number": 25,
       "text": [
        "[ 85,\n",
        "  9,\n",
        "  8,\n",
        "  810,\n",
        "  85,\n",
        "  9,\n",
        "  85,\n",
        "  9,\n",
        "  85,\n",
        "  9,\n",
        "  85,\n",
        "  9,\n",
        "  85,\n",
        "  9,\n",
        "  85,\n",
        "  9,\n",
        "  0,\n",
        "  8,\n",
        "  8,\n",
        "  8,\n",
        "  8,\n",
        "  8,\n",
        "  810,\n",
        "  8,\n",
        "  810,\n",
        "  8,\n",
        "  810,\n",
        "  8,\n",
        "  810,\n",
        "  8,\n",
        "  810,\n",
        "  8,\n",
        "  810 ]"
       ]
      }
     ],
     "prompt_number": 25
    },
    {
     "cell_type": "markdown",
     "metadata": {},
     "source": [
      "#Esercizio 8\n",
      "#Dato un array contenente n^2 elementi, scrivere un algoritmo che permetta di inserire tutti gli oggetti in un array bidimensionale n x n."
     ]
    },
    {
     "cell_type": "code",
     "collapsed": false,
     "input": [
      "function arrayMultidim(vett){\n",
      "    n = Math.sqrt(vett.length);\n",
      "    \n",
      "    \n",
      "    c = 0;\n",
      "    for(i = 0; i < n; i++){\n",
      "        for(j = i; j < n; j++){\n",
      "             v2[i] = new vector.push(vett[c]);\n",
      "            c++;\n",
      "        }\n",
      "        v1[i] = v2[i];\n",
      "    \n",
      "    }\n",
      "    return v1;\n",
      "}\n",
      "ve = [1, 2, 3, 4];\n",
      "arrayMultidim(ve);\n"
     ],
     "language": "python",
     "metadata": {},
     "outputs": []
    },
    {
     "cell_type": "code",
     "collapsed": false,
     "input": [],
     "language": "python",
     "metadata": {},
     "outputs": []
    },
    {
     "cell_type": "code",
     "collapsed": false,
     "input": [],
     "language": "python",
     "metadata": {},
     "outputs": []
    },
    {
     "cell_type": "code",
     "collapsed": false,
     "input": [],
     "language": "python",
     "metadata": {},
     "outputs": [
      {
       "metadata": {},
       "output_type": "pyout",
       "prompt_number": 105,
       "text": [
        "undefined"
       ]
      }
     ],
     "prompt_number": 105
    },
    {
     "cell_type": "markdown",
     "metadata": {},
     "source": [
      "#Esercizio 7\n",
      "#Si calcoli la potenza (x^y) di due numeri x y maggiori o uguali a zero, tramite l\u2019utilizzo dei soli operatori somma, sottrazione e della funzione mult."
     ]
    },
    {
     "cell_type": "code",
     "collapsed": false,
     "input": [
      "function multIterativo(a, b){\n",
      "    tot = 0;\n",
      "    if(a === 0 || b === 0){\n",
      "        return tot;\n",
      "    } else{\n",
      "    if( a < b){\n",
      "        for(i = 0; i < a; i++){\n",
      "            tot += b;\n",
      "        }\n",
      "    } else {\n",
      "        for(i = 0; i < b; i++){\n",
      "            tot += a;\n",
      "        }\n",
      "    }\n",
      "    return tot;\n",
      "    }\n",
      "}\n",
      "/* ricorsiva*/ \n",
      "function pow(a,b){\n",
      "    if(b === 0){\n",
      "        return 1;\n",
      "    } else {\n",
      "        return (multIterativo(a, pow(a, b - 1)));\n",
      "    }\n",
      "}\n",
      "\n",
      "pow(3,2);"
     ],
     "language": "python",
     "metadata": {},
     "outputs": [
      {
       "metadata": {},
       "output_type": "pyout",
       "prompt_number": 3,
       "text": [
        "9"
       ]
      }
     ],
     "prompt_number": 3
    },
    {
     "cell_type": "code",
     "collapsed": false,
     "input": [
      "function powN(a, b){\n",
      "    tot = a;\n",
      "    c = 0;\n",
      "    for(i = 0; i < b; i++){\n",
      "        c = mult(tot, a);\n",
      "        tot = c;\n",
      "    }\n",
      "    return mult(tot, a);\n",
      "}\n",
      "function mult(a, b){\n",
      "    val = 0;\n",
      "    for(i  = 0; i < b; i++){\n",
      "        val = val + a;\n",
      "    }\n",
      "    return val;\n",
      "}\n",
      "\n",
      "powN(4,4);"
     ],
     "language": "python",
     "metadata": {},
     "outputs": [
      {
       "metadata": {},
       "output_type": "pyout",
       "prompt_number": 1,
       "text": [
        "64"
       ]
      }
     ],
     "prompt_number": 1
    },
    {
     "cell_type": "markdown",
     "metadata": {},
     "source": [
      "#Esercizio 9\n",
      "#Dato una lista di elementi, scrivere un algoritmo che permetta di invertire l\u2019ordine degli elementi."
     ]
    },
    {
     "cell_type": "code",
     "collapsed": false,
     "input": [
      "function inverti(vettore){\n",
      "   for(i = vettore.length; i > 1; i--){\n",
      "        \n",
      "        for(j = 0; j < i -1; j++){\n",
      "        tmp = vettore[j];\n",
      "        vettore[j] = vettore[j + 1];\n",
      "        vettore[j + 1] = tmp;\n",
      "        }\n",
      "    }\n",
      "    return vettore;\n",
      "}\n",
      "v = [1, 2, 3, 4];\n",
      "inverti(v);\n"
     ],
     "language": "python",
     "metadata": {},
     "outputs": []
    },
    {
     "cell_type": "code",
     "collapsed": false,
     "input": [
      "function ricoInver(vett, val, i){\n",
      "    if(h){\n",
      "        return vett;\n",
      "    }else{\n",
      "        \n",
      "    }\n",
      "}"
     ],
     "language": "python",
     "metadata": {},
     "outputs": []
    }
   ],
   "metadata": {}
  }
 ]
}